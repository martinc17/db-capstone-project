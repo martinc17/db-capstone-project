{
 "cells": [
  {
   "cell_type": "code",
   "execution_count": 1,
   "metadata": {},
   "outputs": [
    {
     "name": "stdout",
     "output_type": "stream",
     "text": [
      "Requirement already satisfied: mysql-connector-python in c:\\users\\marti\\onedrive\\documents\\database engineer course\\capstone\\.venv\\lib\\site-packages (8.1.0)\n",
      "Requirement already satisfied: protobuf<=4.21.12,>=4.21.1 in c:\\users\\marti\\onedrive\\documents\\database engineer course\\capstone\\.venv\\lib\\site-packages (from mysql-connector-python) (4.21.12)\n",
      "Note: you may need to restart the kernel to use updated packages.\n"
     ]
    },
    {
     "name": "stderr",
     "output_type": "stream",
     "text": [
      "\n",
      "[notice] A new release of pip is available: 23.2.1 -> 23.3.1\n",
      "[notice] To update, run: python.exe -m pip install --upgrade pip\n"
     ]
    }
   ],
   "source": [
    "%pip install mysql-connector-python"
   ]
  },
  {
   "cell_type": "code",
   "execution_count": 2,
   "metadata": {},
   "outputs": [],
   "source": [
    "import mysql.connector as connector"
   ]
  },
  {
   "cell_type": "code",
   "execution_count": 3,
   "metadata": {},
   "outputs": [],
   "source": [
    "connection = connector.connect(user=\"capstone\", password = \"capstone21159\", database=\"littlelemondm\")"
   ]
  },
  {
   "cell_type": "code",
   "execution_count": 4,
   "metadata": {},
   "outputs": [
    {
     "name": "stdout",
     "output_type": "stream",
     "text": [
      "[('bookings',), ('customers',), ('deliverystatus',), ('menuitems',), ('menus',), ('orders',), ('ordersview',), ('staff',)]\n"
     ]
    }
   ],
   "source": [
    "cursor = connection.cursor()\n",
    "\n",
    "show_tables_query = \"SHOW tables\"\n",
    "cursor.execute(show_tables_query)\n",
    "results = cursor.fetchall()\n",
    "print(results)"
   ]
  },
  {
   "cell_type": "code",
   "execution_count": 7,
   "metadata": {},
   "outputs": [
    {
     "name": "stdout",
     "output_type": "stream",
     "text": [
      "('John Doe', 'john@example.com', '555-1234', Decimal('75.00'))\n",
      "('Jane Smith', 'jane@example.com', '555-5678', Decimal('150.00'))\n",
      "('Michael Johnson', 'michael@example.com', '555-7890', Decimal('75.00'))\n",
      "('Emily Brown', 'emily@example.com', '555-2345', Decimal('150.00'))\n",
      "('William Lee', 'william@example.com', '555-6789', Decimal('75.00'))\n",
      "('Sophia Davis', 'sophia@example.com', '555-3456', Decimal('225.00'))\n",
      "('James Wilson', 'james@example.com', '555-4567', Decimal('75.00'))\n",
      "('Olivia Garcia', 'olivia@example.com', '555-8901', Decimal('300.00'))\n",
      "('Liam Martinez', 'liam@example.com', '555-5678', Decimal('75.00'))\n",
      "('Ava Anderson', 'ava@example.com', '555-1234', Decimal('150.00'))\n",
      "('Noah Taylor', 'noah@example.com', '555-7890', Decimal('75.00'))\n",
      "('Emma Rodriguez', 'emma@example.com', '555-2345', Decimal('150.00'))\n",
      "('Sophia Hernandez', 'sophia2@example.com', '555-6789', Decimal('75.00'))\n",
      "('Jackson Lopez', 'jackson@example.com', '555-3456', Decimal('375.00'))\n",
      "('Oliver Moore', 'oliver@example.com', '555-4567', Decimal('75.00'))\n"
     ]
    }
   ],
   "source": [
    "promo_query = \"\"\"\n",
    "SELECT \n",
    "    c.FullName,\n",
    "    c.Email,\n",
    "    c.PhoneNumber,\n",
    "    o.Cost\n",
    "FROM\n",
    "    Customers c\n",
    "    INNER JOIN Orders o ON c.pkCustomerID = o.fkCustomerID\n",
    "WHERE\n",
    "    o.Cost > 60;\n",
    "\"\"\"\n",
    "cursor.execute(promo_query)\n",
    "results = cursor.fetchall()\n",
    "for result in results:\n",
    "    print(result)"
   ]
  }
 ],
 "metadata": {
  "kernelspec": {
   "display_name": ".venv",
   "language": "python",
   "name": "python3"
  },
  "language_info": {
   "codemirror_mode": {
    "name": "ipython",
    "version": 3
   },
   "file_extension": ".py",
   "mimetype": "text/x-python",
   "name": "python",
   "nbconvert_exporter": "python",
   "pygments_lexer": "ipython3",
   "version": "3.11.3"
  },
  "orig_nbformat": 4
 },
 "nbformat": 4,
 "nbformat_minor": 2
}
